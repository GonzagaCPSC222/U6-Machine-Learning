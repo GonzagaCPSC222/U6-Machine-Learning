{
 "cells": [
  {
   "cell_type": "code",
   "execution_count": 1,
   "metadata": {},
   "outputs": [
    {
     "name": "stdout",
     "output_type": "stream",
     "text": [
      "   height(cm)  weight(kg) t-shirt size\n",
      "0         158          58            M\n",
      "1         163          61            M\n",
      "2         165          61            L\n",
      "3         168          66            L\n"
     ]
    }
   ],
   "source": [
    "import pandas as pd\n",
    "\n",
    "df = pd.read_csv(\"shirt_sizes.csv\")\n",
    "\n",
    "print(df)"
   ]
  },
  {
   "cell_type": "markdown",
   "metadata": {},
   "source": [
    "# Intro to ML\n",
    "* Supervised machine learning: labeled data (i.e. there is an attribute we want to predict for unseen data)\n",
    "    * e.g. kNN (k nearest neighbors) algorithm\n",
    "* Unsupervised machine learning: unlabeled data\n",
    "    * e.g. k-means clustering \n",
    "    \n",
    "## Supervised Machine Learning\n",
    "* Somehow, we need to divide our dataset into a training set and a testing set\n",
    "    * The testing set is how you evaluate your classifier\n",
    "    * The testing set is *different* from your training set\n",
    "* Example\n",
    "    * We have the super small t-shirt sizes dataset\n",
    "        * Two features (AKA attributes)\n",
    "            * height and weight\n",
    "        * One class label (AKA attribute)\n",
    "            * t-shirt size\n",
    "            * This is what we want to predict for unseen instances\n",
    "            * Ex. say we have a new instance, height = 161 and weight = 63\n",
    "            * What should it's t-shirt size be?"
   ]
  },
  {
   "cell_type": "markdown",
   "metadata": {},
   "source": [
    "## kNN Algorithm\n",
    "* Find the nearest neighbors in a training set too a test instance (e.g. 161, 63)\n",
    "* Pick the majority class from among the k nearest neighbors\n",
    "    * This is the test instance's predicted class\n",
    "* Need a way to measure \"near\" AKA \"close\"\n",
    "    * 2D: Pythagorean theorem to find the distance between two points\n",
    "    * ND: Distance formula (Euclidean) \n",
    "    * $dist(a, b) = \\sqrt{\\sum_{i = 1}^n(a_i - b_i)^2}$\n",
    "* We need to normalize (AKA scale) our features so that the units don't cause an unanticipated weighting (e.g. height is on a larger scale than weight)\n",
    "    * Use a min-max scaling approach\n",
    "    * For each feature, the min becomes 0 and the max becomes 1\n",
    "    * Subtract the feature mean from each value, then subtract the original range from each value (max - min)\n",
    "    "
   ]
  }
 ],
 "metadata": {
  "kernelspec": {
   "display_name": "Python 3",
   "language": "python",
   "name": "python3"
  },
  "language_info": {
   "codemirror_mode": {
    "name": "ipython",
    "version": 3
   },
   "file_extension": ".py",
   "mimetype": "text/x-python",
   "name": "python",
   "nbconvert_exporter": "python",
   "pygments_lexer": "ipython3",
   "version": "3.7.4"
  }
 },
 "nbformat": 4,
 "nbformat_minor": 4
}
