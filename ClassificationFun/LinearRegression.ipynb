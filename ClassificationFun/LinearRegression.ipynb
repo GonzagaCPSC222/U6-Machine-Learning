{
 "cells": [
  {
   "cell_type": "markdown",
   "metadata": {},
   "source": [
    "# Warm-up Task\n",
    "Create an xy dataset with 100 points that roughly resembles y = 2x plus some noise"
   ]
  },
  {
   "cell_type": "code",
   "execution_count": 4,
   "metadata": {},
   "outputs": [],
   "source": [
    "import numpy as np\n",
    "\n",
    "np.random.seed(0) # seed the random number generator for reproducible results\n",
    "\n",
    "x = list(range(100))\n",
    "y = []\n",
    "for val in x:\n",
    "    y.append(2 * val + np.random.normal(0, 25))\n",
    "#print(y)"
   ]
  },
  {
   "cell_type": "code",
   "execution_count": 5,
   "metadata": {},
   "outputs": [
    {
     "data": {
      "image/png": "[encoded data removed]",
      "text/plain": [
       "<Figure size 432x288 with 1 Axes>"
      ]
     },
     "metadata": {
      "needs_background": "light"
     },
     "output_type": "display_data"
    }
   ],
   "source": [
    "import matplotlib.pyplot as plt\n",
    "\n",
    "plt.scatter(x, y)\n",
    "plt.show()"
   ]
  },
  {
   "cell_type": "markdown",
   "metadata": {},
   "source": [
    "Goals\n",
    "* To fit a line to this data (should be close y = 2x)\n",
    "* y = mx + b"
   ]
  },
  {
   "cell_type": "markdown",
   "metadata": {},
   "source": [
    "## Linear Regression\n",
    "* Recall: Supervised machine learning tasks where the \"class\" is categorical is called classification\n",
    "    * But when the \"class\" is continuous, the tasks are called regression\n",
    "* There are several regression algorithms (called regressors in Sci-kit Learn)\n",
    "    * Linear regression\n",
    "    * kNN regressor\n",
    "    * Decision tree regressor\n",
    "    * Support vector regressor\n",
    "    * Etc. "
   ]
  },
  {
   "cell_type": "markdown",
   "metadata": {},
   "source": [
    "## Warmup Task\n",
    "* Recall y = mx + b\n",
    "* With the basic least squares approach, the fit line has to pass through (mean_x, mean_y)\n",
    "* Calculate m (slope) using the formula\n",
    "* Calculate b (y intercept) by plugging in m, mean_x, mean_y"
   ]
  },
  {
   "cell_type": "code",
   "execution_count": 7,
   "metadata": {},
   "outputs": [
    {
     "name": "stdout",
     "output_type": "stream",
     "text": [
      "m: 1.924917458430444 b: 5.211786196055144\n"
     ]
    }
   ],
   "source": [
    "mean_x = np.mean(x)\n",
    "mean_y = np.mean(y)\n",
    "\n",
    "num_prods = []\n",
    "den_squares = []\n",
    "for i in range(len(x)):\n",
    "    num_prods.append((x[i] - mean_x) * (y[i] - mean_y))\n",
    "    den_squares.append((x[i] - mean_x) ** 2)\n",
    "m = sum(num_prods) / sum(den_squares)\n",
    "b = mean_y - m * mean_x # y - mx = b\n",
    "print(\"m:\", m, \"b:\", b)"
   ]
  },
  {
   "cell_type": "code",
   "execution_count": 8,
   "metadata": {},
   "outputs": [
    {
     "data": {
      "image/png": "[encoded data removed]",
      "text/plain": [
       "<Figure size 432x288 with 1 Axes>"
      ]
     },
     "metadata": {
      "needs_background": "light"
     },
     "output_type": "display_data"
    }
   ],
   "source": [
    "plt.figure()\n",
    "plt.scatter(x, y, label=\"original data\")\n",
    "plt.plot([min(x), max(x)], [m * min(x) + b, m * max(x) + b], label=\"fit line\", color=\"red\", lw=5)\n",
    "plt.legend()\n",
    "plt.show()"
   ]
  },
  {
   "cell_type": "code",
   "execution_count": 9,
   "metadata": {},
   "outputs": [
    {
     "name": "stdout",
     "output_type": "stream",
     "text": [
      "m: 1.9249174584304443 b: 5.2117861960551295 r: 0.9113097511932392\n"
     ]
    }
   ],
   "source": [
    "# check our work with scipy\n",
    "import scipy.stats as stats\n",
    "\n",
    "m, b, r, p_value, std_err = stats.linregress(x, y)\n",
    "print(\"m:\", m, \"b:\", b, \"r:\", r)"
   ]
  },
  {
   "cell_type": "code",
   "execution_count": 11,
   "metadata": {},
   "outputs": [
    {
     "name": "stdout",
     "output_type": "stream",
     "text": [
      "y predicted: 197.70353203909954 residual (error): 2.2964679609004577\n"
     ]
    }
   ],
   "source": [
    "# let's use our fit line to make a prediction for an unseen x value\n",
    "test_instance = 100\n",
    "y_predicted = m * test_instance + b\n",
    "print(\"y predicted:\", y_predicted, \"residual (error):\", 2 * test_instance - y_predicted)"
   ]
  },
  {
   "cell_type": "code",
   "execution_count": 13,
   "metadata": {},
   "outputs": [
    {
     "name": "stdout",
     "output_type": "stream",
     "text": [
      "y predicted: [197.70353204] residual (error): [2.29646796]\n"
     ]
    }
   ],
   "source": [
    "# check our work with sci-kit learn\n",
    "from sklearn.linear_model import LinearRegression\n",
    "\n",
    "reg = LinearRegression()\n",
    "# we need to reshape our x list into a 2D array: [[0], [1], [2], ... [99]]\n",
    "x = np.reshape(x, (-1, 1)) # 100 x 1\n",
    "reg.fit(x, y)\n",
    "y_predicted = reg.predict([[test_instance]])\n",
    "print(\"y predicted:\", y_predicted, \"residual (error):\", 2 * test_instance - y_predicted)"
   ]
  },
  {
   "cell_type": "markdown",
   "metadata": {},
   "source": [
    "## Regression Evaluation Metrics \n",
    "Goal is to quantify the strength of the linear relationship between x (independent var) and y (dependent var)\n",
    "* Correlation ($r$): a value in $[-1.0, 1.0]$\n",
    "    * 1.0 is a perfect linear relationship: as x increases, y increases; as x decreases; y decreases\n",
    "    * -1.0 is a perfect **inverse** linear relationship: as x increases, y decreases; as x decreases, y increases\n",
    "    * At or near 0.0: this means there is no linear relationship (x and y are independent)\n",
    "    * Use `stats.pearsonr(x, y)` to calculate correlation coefficient\n",
    "    * **NOTE: correlation does not imply causation**\n",
    "* Coefficient of determination ($R^2$): a value in $[0.0, 1.0]$\n",
    "    * The proportion of variation in y that is explained by x\n",
    "    * The larger your $R^2$, the better your model (e.g. the stronger the relationship between x and y)\n",
    "    * Note: R^2 is the default scoring metric for sci-kit learn linear regression\n",
    "* Others (for further study)\n",
    "    * Standard error\n",
    "    * Mean absolute error\n",
    "    * Mean squared error\n",
    "    * Root mean squared error\n",
    "    * (normalized variations)\n",
    "    * Etc. "
   ]
  },
  {
   "cell_type": "code",
   "execution_count": 14,
   "metadata": {},
   "outputs": [
    {
     "name": "stdout",
     "output_type": "stream",
     "text": [
      "R^2: 0.8304854626198835\n"
     ]
    }
   ],
   "source": [
    "print(\"R^2:\", r * r)\n",
    "# 83% of the variation in y is explained by x"
   ]
  },
  {
   "cell_type": "code",
   "execution_count": null,
   "metadata": {},
   "outputs": [],
   "source": []
  }
 ],
 "metadata": {
  "kernelspec": {
   "display_name": "Python 3",
   "language": "python",
   "name": "python3"
  },
  "language_info": {
   "codemirror_mode": {
    "name": "ipython",
    "version": 3
   },
   "file_extension": ".py",
   "mimetype": "text/x-python",
   "name": "python",
   "nbconvert_exporter": "python",
   "pygments_lexer": "ipython3",
   "version": "3.7.4"
  }
 },
 "nbformat": 4,
 "nbformat_minor": 4
}
